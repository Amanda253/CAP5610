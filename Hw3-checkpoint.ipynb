{
 "cells": [
  {
   "cell_type": "code",
   "execution_count": 34,
   "id": "beneficial-clause",
   "metadata": {},
   "outputs": [
    {
     "data": {
      "image/png": "[encoded data removed]",
      "text/plain": [
       "<Figure size 432x288 with 1 Axes>"
      ]
     },
     "metadata": {
      "needs_background": "light"
     },
     "output_type": "display_data"
    }
   ],
   "source": [
    "#Task 2\n",
    "\n",
    "import math\n",
    "import numpy as np\n",
    "from mpl_toolkits import mplot3d\n",
    "import matplotlib.pyplot as plt\n",
    "import matplotlib.cm as cm\n",
    "from sklearn import preprocessing\n",
    "from sklearn import svm\n",
    "import sklearn.metrics as sm\n",
    "\n",
    "negative = np.array([[-1,1],[1,1]])\n",
    "positive = np.array([[-1,-1],[1,-1]])\n",
    "\n",
    "plt.scatter(positive[:,0], positive[:,1], color='green')\n",
    "plt.scatter(negative[:,0], negative[:,1], color='red')\n",
    "plt.axline((0,0), (1,0))\n",
    "plt.show()\n"
   ]
  },
  {
   "cell_type": "code",
   "execution_count": 30,
   "id": "maritime-plain",
   "metadata": {},
   "outputs": [
    {
     "data": {
      "image/png": "[encoded data removed]",
      "text/plain": [
       "<Figure size 432x288 with 1 Axes>"
      ]
     },
     "metadata": {
      "needs_background": "light"
     },
     "output_type": "display_data"
    }
   ],
   "source": [
    "#Task 5\n",
    "\n",
    "together = ([[1,1], [2,2], [2,0], [0,0], [1,0], [0,1]])\n",
    "\n",
    "positive = np.array([[1,1], [2,2], [2,0]])\n",
    "negative = np.array([[0,0], [1,0], [0,1]])\n",
    "\n",
    "labels = np.array([1,1,1,-1,-1,-1])\n",
    "\n",
    "plt.scatter(positive[:,0], positive[:,1], color='green')\n",
    "plt.scatter(negative[:,0], negative[:,1], color='red')\n",
    "plt.show()\n"
   ]
  },
  {
   "cell_type": "code",
   "execution_count": 31,
   "id": "quantitative-tourist",
   "metadata": {},
   "outputs": [
    {
     "name": "stdout",
     "output_type": "stream",
     "text": [
      "[0.80446927 0.80337079 0.78651685 0.75280899 0.78651685]\n",
      "[0.64804469 0.65730337 0.66292135 0.65168539 0.6741573 ]\n",
      "[0.65921788 0.66292135 0.63483146 0.64606742 0.64606742]\n"
     ]
    }
   ],
   "source": [
    "#Task 7\n",
    "\n",
    "import numpy as np\n",
    "import pandas as pd\n",
    "import seaborn as sb\n",
    "from matplotlib import pyplot as plt\n",
    "from __future__ import division\n",
    "import random\n",
    "%matplotlib inline\n",
    "\n",
    "import sklearn\n",
    "from sklearn.tree import DecisionTreeClassifier\n",
    "from sklearn.ensemble import RandomForestClassifier\n",
    "from sklearn.model_selection import train_test_split\n",
    "from sklearn.model_selection import cross_val_score\n",
    "from sklearn import metrics\n",
    "\n",
    "from sklearn.tree import export_graphviz\n",
    "from sklearn import tree\n",
    "from six import StringIO\n",
    "from IPython.display import Image\n",
    "import pydotplus\n",
    "\n",
    "train = pd.read_csv('titanic/train.csv')\n",
    "test = pd.read_csv('titanic/test.csv')\n",
    "\n",
    "train.rename(columns={'Sex':'Gender'}, inplace=True)\n",
    "train.replace(to_replace=['male', 'female'], value=[0,1], inplace=True)\n",
    "\n",
    "age_mean = int(train['Age'].mean())\n",
    "age_std = int(train['Age'].std())\n",
    "\n",
    "train['Age'] = train['Age'].fillna(random.randint(age_std, age_mean))\n",
    "\n",
    "\n",
    "train['Embarked'] = train['Embarked'].fillna(train['Embarked'].value_counts().index[0])\n",
    "train['Embarked'].replace(to_replace=['C','Q','S'], value=[0,1,2], inplace=True)\n",
    "\n",
    "train['Fare'] = train['Fare'].mask(train['Fare'] <= 7.91, 0)\n",
    "train['Fare'] = train['Fare'].mask((train['Fare'] > 7.91) & (train['Fare'] <= 14.454), 1)\n",
    "train['Fare'] = train['Fare'].mask((train['Fare'] > 14.454) & (train['Fare'] <= 31.0), 2)\n",
    "train['Fare'] = train['Fare'].mask((train['Fare'] > 31.0) & (train['Fare'] <= 513.329), 3).astype(int)\n",
    "\n",
    "del train['Name']\n",
    "del train['Cabin']\n",
    "del train['Ticket']\n",
    "del train['PassengerId']\n",
    "\n",
    "\n",
    "cols = ['Pclass', 'Gender', 'Age', 'SibSp', 'Parch', 'Fare', 'Embarked']\n",
    "X = train[cols]\n",
    "Y = train.Survived\n",
    "\n",
    "x_train, x_test, y_train, y_test = train_test_split(X, Y, test_size=0.3, random_state=1)\n",
    "\n",
    "clf1 = svm.SVC(kernel='linear')\n",
    "clf1.fit(X,Y)\n",
    "score1 = cross_val_score(clf1, X, Y, cv=5)\n",
    "print(score1)\n",
    "\n",
    "clf2 = svm.SVC(kernel='poly')\n",
    "clf2.fit(X,Y)\n",
    "score2 = cross_val_score(clf2, X, Y, cv=5)\n",
    "print(score2)\n",
    "\n",
    "clf3 = svm.SVC(kernel='rbf')\n",
    "clf3.fit(X,Y)\n",
    "score3 = cross_val_score(clf3, X, Y, cv=5)\n",
    "print(score3)"
   ]
  },
  {
   "cell_type": "code",
   "execution_count": null,
   "id": "published-granny",
   "metadata": {},
   "outputs": [],
   "source": []
  }
 ],
 "metadata": {
  "kernelspec": {
   "display_name": "Python 3",
   "language": "python",
   "name": "python3"
  },
  "language_info": {
   "codemirror_mode": {
    "name": "ipython",
    "version": 3
   },
   "file_extension": ".py",
   "mimetype": "text/x-python",
   "name": "python",
   "nbconvert_exporter": "python",
   "pygments_lexer": "ipython3",
   "version": "3.8.5"
  }
 },
 "nbformat": 4,
 "nbformat_minor": 5
}
